{
 "cells": [
  {
   "cell_type": "markdown",
   "id": "b16a894b-06c0-4b2d-896a-716b8f4de3b5",
   "metadata": {},
   "source": [
    "# Data Science Tools and Ecosystem"
   ]
  },
  {
   "cell_type": "markdown",
   "id": "044981bb-a155-4318-b9b9-fbecdeed6df3",
   "metadata": {},
   "source": [
    "In this notebook, Data Science Tools and Ecosystem are summarized."
   ]
  },
  {
   "cell_type": "markdown",
   "id": "4ab94688-8d45-4ddc-bb6f-a671c476c13f",
   "metadata": {},
   "source": [
    "**Objectives**\n",
    "- Jupitor Notebooks\n",
    "- Markdown\n",
    "- Git hub\n",
    "- Repository"
   ]
  },
  {
   "cell_type": "markdown",
   "id": "8fde9373-8749-4547-9c9c-69a9a22678be",
   "metadata": {},
   "source": [
    "*Some of the popular languages that Data Scientists use are:*\n",
    "1. Python\n",
    "2. R\n",
    "3. Julia\n",
    "4. SQL\n",
    "5. Scala"
   ]
  },
  {
   "cell_type": "markdown",
   "id": "a7dcdcdc-220e-4221-8c0c-e882c902ee73",
   "metadata": {},
   "source": [
    "Some of the commonly used libraries used by Data Scientists include:\n",
    "1) Numpy\n",
    "2) Pandas\n",
    "3) matplotlib\n",
    "4) scikit-learn\n",
    "5) Tenserflow"
   ]
  },
  {
   "cell_type": "markdown",
   "id": "9ab535fa-f946-4798-bcb4-351f10912a1d",
   "metadata": {},
   "source": [
    "| Data science tools |\n",
    "|--|\n",
    "|Jupiter Notebook    |\n",
    "|Rstudio             |\n",
    "|VS Code             |\n"
   ]
  },
  {
   "cell_type": "markdown",
   "id": "76dc8fc8-58f5-4800-be6c-e3dbc9a44450",
   "metadata": {},
   "source": [
    "### Below are a few examples of evaluating arithmetic expressions in Python"
   ]
  },
  {
   "cell_type": "code",
   "execution_count": 2,
   "id": "152278ad-c8bb-4de1-ad87-d91af3aeb426",
   "metadata": {},
   "outputs": [
    {
     "data": {
      "text/plain": [
       "17"
      ]
     },
     "execution_count": 2,
     "metadata": {},
     "output_type": "execute_result"
    }
   ],
   "source": [
    "#This a simple arithmetic expression to mutiply then add integers\n",
    "(3*4)+5"
   ]
  },
  {
   "cell_type": "code",
   "execution_count": 3,
   "id": "63ec5839-03c9-4b0e-967d-b183e645be6e",
   "metadata": {},
   "outputs": [
    {
     "data": {
      "text/plain": [
       "3.3333333333333335"
      ]
     },
     "execution_count": 3,
     "metadata": {},
     "output_type": "execute_result"
    }
   ],
   "source": [
    "#this will convert 200 minutes to hours by diving by 60\n",
    "200/60"
   ]
  },
  {
   "cell_type": "markdown",
   "id": "30d1f7e0-a857-4cdc-9cf6-d8094e898685",
   "metadata": {},
   "source": [
    "## Author\n",
    "Devanshu Vashisht"
   ]
  },
  {
   "cell_type": "code",
   "execution_count": null,
   "id": "d349cb20-4448-40bf-83c6-ed23b5b6a38d",
   "metadata": {},
   "outputs": [],
   "source": []
  }
 ],
 "metadata": {
  "kernelspec": {
   "display_name": "Python 3 (ipykernel)",
   "language": "python",
   "name": "python3"
  },
  "language_info": {
   "codemirror_mode": {
    "name": "ipython",
    "version": 3
   },
   "file_extension": ".py",
   "mimetype": "text/x-python",
   "name": "python",
   "nbconvert_exporter": "python",
   "pygments_lexer": "ipython3",
   "version": "3.12.9"
  }
 },
 "nbformat": 4,
 "nbformat_minor": 5
}
